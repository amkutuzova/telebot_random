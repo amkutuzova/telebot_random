{
  "nbformat": 4,
  "nbformat_minor": 0,
  "metadata": {
    "colab": {
      "provenance": [],
      "authorship_tag": "ABX9TyNdrqdbY3UgAkXDG9FXR0ko",
      "include_colab_link": true
    },
    "kernelspec": {
      "name": "python3",
      "display_name": "Python 3"
    },
    "language_info": {
      "name": "python"
    }
  },
  "cells": [
    {
      "cell_type": "markdown",
      "metadata": {
        "id": "view-in-github",
        "colab_type": "text"
      },
      "source": [
        "<a href=\"https://colab.research.google.com/github/amkutuzova/telebot_random/blob/main/code.ipynb\" target=\"_parent\"><img src=\"https://colab.research.google.com/assets/colab-badge.svg\" alt=\"Open In Colab\"/></a>"
      ]
    },
    {
      "cell_type": "code",
      "source": [
        "!pip install pytelegrambotapi"
      ],
      "metadata": {
        "id": "fprFr0Qc37U3"
      },
      "execution_count": null,
      "outputs": []
    },
    {
      "cell_type": "code",
      "source": [
        "#бот генерирует случайное число\n",
        "import telebot\n",
        "import random\n",
        "\n",
        "with open('token.txt') as f:\n",
        "    token = f.read()\n",
        "bot = telebot.TeleBot(token)\n",
        "n=0\n",
        "\n",
        "@bot.message_handler(commands=['start'])\n",
        "def send_welcome(message):\n",
        "    global n\n",
        "    bot.reply_to(message, 'Я загадал число от 1 до 100. Попробуйте отгадать!')\n",
        "    n=random.randint(1,100)\n",
        "\n",
        "@bot.message_handler(func=lambda message: message.text.isdigit())\n",
        "def get_number(message):\n",
        "    global n\n",
        "    message.text=int(message.text)\n",
        "    if (n==message.text):\n",
        "        bot.send_message(message.chat.id,'Вы угадали число! Чтобы начать заново, напишите /start')\n",
        "    elif (n>message.text):\n",
        "        bot.send_message(message.chat.id,'Загаданное число больше')\n",
        "    elif (n<message.text):\n",
        "        bot.send_message(message.chat.id,'Загаданное число меньше')\n",
        "\n",
        "bot.infinity_polling()"
      ],
      "metadata": {
        "id": "91mjrw4MIYcq"
      },
      "execution_count": null,
      "outputs": []
    }
  ]
}